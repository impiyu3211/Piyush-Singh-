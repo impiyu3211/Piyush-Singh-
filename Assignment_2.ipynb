{
  "nbformat": 4,
  "nbformat_minor": 0,
  "metadata": {
    "colab": {
      "provenance": [],
      "authorship_tag": "ABX9TyPLADbLMwzGUCmZGwS+7Qqg",
      "include_colab_link": true
    },
    "kernelspec": {
      "name": "python3",
      "display_name": "Python 3"
    },
    "language_info": {
      "name": "python"
    }
  },
  "cells": [
    {
      "cell_type": "markdown",
      "metadata": {
        "id": "view-in-github",
        "colab_type": "text"
      },
      "source": [
        "<a href=\"https://colab.research.google.com/github/impiyu3211/Piyush-Singh-/blob/main/Assignment_2.ipynb\" target=\"_parent\"><img src=\"https://colab.research.google.com/assets/colab-badge.svg\" alt=\"Open In Colab\"/></a>"
      ]
    },
    {
      "cell_type": "code",
      "source": [
        "Question1. Discuss string slicing and provide examples."
      ],
      "metadata": {
        "id": "NilaZ5XExrUN"
      },
      "execution_count": null,
      "outputs": []
    },
    {
      "cell_type": "markdown",
      "source": [
        "Answer: String slicing allows you to extract parts (substrings) from a string. The syntax is:\n",
        "\n",
        "string[start:stop:step]\n",
        "\n",
        "start: The index where the slice begins (inclusive).\n",
        "\n",
        "stop: The index where the slice ends (exclusive).\n",
        "\n",
        "step: The interval at which characters are selected.\n",
        "\n",
        "\n",
        "Examples:\n",
        "\n",
        "text = \"Hello, World!\"\n",
        "print(text[0:5])    # Output: \"Hello\"\n",
        "print(text[7:])     # Output: \"World!\"\n",
        "print(text[:5])     # Output: \"Hello\"\n",
        "print(text[::2])    # Output: \"Hlo ol!\"\n",
        "print(text[::-1])   # Output: \"!dlroW ,olleH\" (reversed string)"
      ],
      "metadata": {
        "id": "rxF6DhkUxsNX"
      }
    },
    {
      "cell_type": "code",
      "source": [
        "Question2:Explain the key features of lists in Python."
      ],
      "metadata": {
        "id": "2eU7HcANx41e"
      },
      "execution_count": null,
      "outputs": []
    },
    {
      "cell_type": "markdown",
      "source": [
        "Answer:Key Features of Lists in Python\n",
        "\n",
        "Ordered: Lists maintain the order of elements.\n",
        "\n",
        "Mutable: You can modify elements after creation.\n",
        "\n",
        "Heterogeneous: Lists can store different data types.\n",
        "\n",
        "Dynamic: You can grow or shrink the list as needed.\n",
        "\n",
        "Indexing and Slicing: Lists can be indexed and sliced just like strings.\n",
        "\n",
        "Methods: Lists come with methods like append(), remove(), pop(), extend(), etc.\n",
        "\n",
        "\n",
        "Example:\n",
        "\n",
        "my_list = [1, \"apple\", 3.14]\n",
        "print(my_list[1])     # Output: \"apple\"\n",
        "my_list.append(5)\n",
        "print(my_list)        # Output: [1, \"apple\", 3.14, 5]"
      ],
      "metadata": {
        "id": "J523DxsZx_Ad"
      }
    },
    {
      "cell_type": "code",
      "source": [
        "Question3:Describe how to access, modify, and delete elements in a list with examples."
      ],
      "metadata": {
        "id": "2Bc9qL7lyHI_"
      },
      "execution_count": null,
      "outputs": []
    },
    {
      "cell_type": "markdown",
      "source": [
        "Answer:Access, Modify, and Delete Elements in a List\n",
        "\n",
        "Access: Using indexes.\n",
        "\n",
        "Modify: Assign a new value using the index.\n",
        "\n",
        "Delete: Using del, pop(), or remove().\n",
        "\n",
        "\n",
        "Example:\n",
        "\n",
        "my_list = [10, 20, 30, 40]\n",
        "\n",
        "# Access\n",
        "print(my_list[1])    # Output: 20\n",
        "\n",
        "# Modify\n",
        "my_list[2] = 35\n",
        "print(my_list)       # Output: [10, 20, 35, 40]\n",
        "\n",
        "# Delete using del\n",
        "del my_list[1]\n",
        "print(my_list)       # Output: [10, 35, 40]\n",
        "\n",
        "# Delete using pop\n",
        "my_list.pop(1)\n",
        "print(my_list)       # Output: [10, 40]\n",
        "\n",
        "# Delete using remove\n",
        "my_list.remove(40)\n",
        "print(my_list)       # Output: [10]"
      ],
      "metadata": {
        "id": "3DrEGDVayNXY"
      }
    },
    {
      "cell_type": "code",
      "source": [
        "Question4: Compare and contrast tuples and lists with examples."
      ],
      "metadata": {
        "id": "tNjQBe-2yhYN"
      },
      "execution_count": null,
      "outputs": []
    },
    {
      "cell_type": "markdown",
      "source": [
        "Answer:Compare and Contrast Tuples and Lists\n",
        "\n",
        "Mutability:\n",
        "\n",
        "Lists are mutable (elements can be changed).\n",
        "\n",
        "Tuples are immutable (elements cannot be changed once assigned).\n",
        "\n",
        "\n",
        "Syntax:\n",
        "\n",
        "Lists use square brackets [], e.g., [1, 2, 3].\n",
        "\n",
        "Tuples use parentheses (), e.g., (1, 2, 3).\n",
        "\n",
        "\n",
        "Performance:\n",
        "\n",
        "Tuples are generally faster than lists due to immutability.\n",
        "\n",
        "\n",
        "Use Cases:\n",
        "\n",
        "Use lists when you need to modify elements frequently.\n",
        "\n",
        "Use tuples when you need to ensure data remains unchanged.\n",
        "\n",
        "\n",
        "\n",
        "Example:\n",
        "\n",
        "# List\n",
        "my_list = [1, 2, 3]\n",
        "my_list[0] = 10  # Valid\n",
        "print(my_list)   # Output: [10, 2, 3]\n",
        "\n",
        "# Tuple\n",
        "my_tuple = (1, 2, 3)\n",
        "# my_tuple[0] = 10  # Invalid, will raise TypeError\n",
        "print(my_tuple)   # Output: (1, 2, 3)"
      ],
      "metadata": {
        "id": "68rrQRnHykvf"
      }
    },
    {
      "cell_type": "code",
      "source": [
        "Question5:Describe the key features of sets and provide examples of their use."
      ],
      "metadata": {
        "id": "PdrxLmBbywmB"
      },
      "execution_count": null,
      "outputs": []
    },
    {
      "cell_type": "markdown",
      "source": [
        "Answer:Key Features of Sets in Python\n",
        "\n",
        "Unordered: Elements are not stored in a specific order.\n",
        "\n",
        "Unique Elements: Sets do not allow duplicate values.\n",
        "\n",
        "Mutable: You can add or remove elements from a set.\n",
        "\n",
        "Set Operations: Supports mathematical set operations like union, intersection, difference, etc.\n",
        "\n",
        "\n",
        "Example:\n",
        "\n",
        "my_set = {1, 2, 3, 4}\n",
        "my_set.add(5)\n",
        "print(my_set)         # Output: {1, 2, 3, 4, 5}\n",
        "\n",
        "# Duplicate values are ignored\n",
        "my_set.add(3)\n",
        "print(my_set)         # Output: {1, 2, 3, 4, 5}\n",
        "\n",
        "# Set operations\n",
        "set1 = {1, 2, 3}\n",
        "set2 = {3, 4, 5}\n",
        "print(set1 | set2)    # Union: {1, 2, 3, 4, 5}\n",
        "print(set1 & set2)    # Intersection: {3}"
      ],
      "metadata": {
        "id": "XhKlsFCQzrL3"
      }
    },
    {
      "cell_type": "code",
      "source": [
        "Question6:Discuss the use cases of tuples and sets in Python programming."
      ],
      "metadata": {
        "id": "smfjDwGQ0Dzb"
      },
      "execution_count": null,
      "outputs": []
    },
    {
      "cell_type": "markdown",
      "source": [
        "Answer:Use Cases of Tuples and Sets in Python Programming\n",
        "\n",
        "Tuples:\n",
        "\n",
        "Use tuples to store fixed collections of items, such as coordinates (x, y), database records, or any data that should not change.\n",
        "\n",
        "They are often used as keys in dictionaries because of their immutability.\n",
        "\n",
        "\n",
        "Sets:\n",
        "\n",
        "Use sets for membership testing, removing duplicates from a list, or performing mathematical set operations.\n",
        "\n",
        "Sets are useful when you need to store a collection of unique items.\n",
        "\n",
        "\n",
        "\n",
        "Example use case of a tuple as a dictionary key:\n",
        "\n",
        "coordinates = {(1, 2): \"Point A\", (3, 4): \"Point B\"}\n",
        "print(coordinates[(1, 2)])  # Output: \"Point A\"\n",
        "\n",
        "Example use case of a set for removing duplicates:\n",
        "\n",
        "my_list = [1, 2, 2, 3, 3, 4]\n",
        "unique_items = set(my_list)\n",
        "print(unique_items)  # Output: {1, 2, 3, 4}"
      ],
      "metadata": {
        "id": "0ZKMYc2a0KpC"
      }
    },
    {
      "cell_type": "code",
      "source": [
        "Question7: Describe how to add, modify, and delete items in a dictionary with examples."
      ],
      "metadata": {
        "id": "uqu1aR5H0hrr"
      },
      "execution_count": null,
      "outputs": []
    },
    {
      "cell_type": "markdown",
      "source": [
        "Answer: Add, Modify, and Delete Items in a Dictionary\n",
        "\n",
        "Add: Assign a key-value pair.\n",
        "\n",
        "Modify: Reassign a value to an existing key.\n",
        "\n",
        "Delete: Use del or pop().\n",
        "\n",
        "\n",
        "Example:\n",
        "\n",
        "my_dict = {\"name\": \"Alice\", \"age\": 25}\n",
        "\n",
        "# Add\n",
        "my_dict[\"city\"] = \"New York\"\n",
        "print(my_dict)  # Output: {\"name\": \"Alice\", \"age\": 25, \"city\": \"New York\"}\n",
        "\n",
        "# Modify\n",
        "my_dict[\"age\"] = 26\n",
        "print(my_dict)  # Output: {\"name\": \"Alice\", \"age\": 26, \"city\": \"New York\"}\n",
        "\n",
        "# Delete using del\n",
        "del my_dict[\"city\"]\n",
        "print(my_dict)  # Output: {\"name\": \"Alice\", \"age\": 26}\n",
        "\n",
        "# Delete using pop\n",
        "my_dict.pop(\"age\")\n",
        "print(my_dict)  # Output: {\"name\": \"Alice\"}"
      ],
      "metadata": {
        "id": "gL337QV10ZE2"
      }
    },
    {
      "cell_type": "code",
      "source": [
        "Question8: Discuss the importance of dictionary keys being immutable and provide examples."
      ],
      "metadata": {
        "id": "b_me4qPi1KXx"
      },
      "execution_count": null,
      "outputs": []
    },
    {
      "cell_type": "markdown",
      "source": [
        "Answer: Importance of Dictionary Keys Being Immutable\n",
        "\n",
        "Dictionary keys must be immutable to ensure the key's hash value does not change during its lifetime. This allows dictionaries to perform fast lookups using hash tables. If keys were mutable, changing the key would break the dictionary’s integrity.\n",
        "\n",
        "Valid immutable keys: strings, numbers, tuples. Invalid mutable keys: lists, sets.\n",
        "\n",
        "Example:\n",
        "\n",
        "# Valid key (immutable)\n",
        "my_dict = {(1, 2): \"Point\", \"name\": \"Alice\"}\n",
        "\n",
        "# Invalid key (mutable, will raise TypeError)\n",
        "# my_dict = {[1, 2]: \"Point\"}  # Invalid key: list"
      ],
      "metadata": {
        "id": "uIOZwQL41PsG"
      }
    }
  ]
}