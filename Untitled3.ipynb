{
  "nbformat": 4,
  "nbformat_minor": 0,
  "metadata": {
    "colab": {
      "provenance": [],
      "authorship_tag": "ABX9TyMWJMo9Mh3315O2nD4k3tAu",
      "include_colab_link": true
    },
    "kernelspec": {
      "name": "python3",
      "display_name": "Python 3"
    },
    "language_info": {
      "name": "python"
    }
  },
  "cells": [
    {
      "cell_type": "markdown",
      "metadata": {
        "id": "view-in-github",
        "colab_type": "text"
      },
      "source": [
        "<a href=\"https://colab.research.google.com/github/impiyu3211/Piyush-Singh-/blob/main/Untitled3.ipynb\" target=\"_parent\"><img src=\"https://colab.research.google.com/assets/colab-badge.svg\" alt=\"Open In Colab\"/></a>"
      ]
    },
    {
      "cell_type": "markdown",
      "source": [
        "Question1: 1. Create a 3x3 NumPy array with random integers between 1 and 100. Then, interchange its rows and columns."
      ],
      "metadata": {
        "id": "70UPJfXe961Q"
      }
    },
    {
      "cell_type": "code",
      "source": [
        "import numpy as np\n",
        "\n",
        "# Create a 3x3 array with random integers between 1 and 100\n",
        "array = np.random.randint(1, 101, size=(3, 3))\n",
        "print(\"Original array:\")\n",
        "print(array)\n",
        "\n",
        "# Interchange rows and columns (transpose)\n",
        "transposed_array = array.T\n",
        "print(\"\\nTransposed array:\")\n",
        "print(transposed_array)"
      ],
      "metadata": {
        "colab": {
          "base_uri": "https://localhost:8080/"
        },
        "id": "uPUtFJ1S9-Oz",
        "outputId": "6af4b88b-544b-4fb1-cfdd-ee4654d435f4"
      },
      "execution_count": null,
      "outputs": [
        {
          "output_type": "stream",
          "name": "stdout",
          "text": [
            "Original array:\n",
            "[[49 18 68]\n",
            " [87 54 17]\n",
            " [39 58  5]]\n",
            "\n",
            "Transposed array:\n",
            "[[49 87 39]\n",
            " [18 54 58]\n",
            " [68 17  5]]\n"
          ]
        }
      ]
    },
    {
      "cell_type": "markdown",
      "source": [
        "Question2: Generate a ID NumPy array with 10 elements. Reshape it into a 2x5 array, then into a 5x2 array."
      ],
      "metadata": {
        "id": "kBJdZQC1-RAE"
      }
    },
    {
      "cell_type": "code",
      "source": [
        "import numpy as np\n",
        "\n",
        "# Generate an array with 10 sequential ID elements (0 to 9)\n",
        "array = np.arange(10)\n",
        "print(\"Original array:\")\n",
        "print(array)\n",
        "\n",
        "# Reshape the array into 2x5\n",
        "array_2x5 = array.reshape(2, 5)\n",
        "print(\"\\nReshaped into 2x5 array:\")\n",
        "print(array_2x5)\n",
        "\n",
        "# Reshape the array into 5x2\n",
        "array_5x2 = array.reshape(5, 2)\n",
        "print(\"\\nReshaped into 5x2 array:\")\n",
        "print(array_5x2)"
      ],
      "metadata": {
        "colab": {
          "base_uri": "https://localhost:8080/"
        },
        "id": "McioWDu3-Z2M",
        "outputId": "804cd13a-35eb-4895-cd8b-b3f030c514b5"
      },
      "execution_count": null,
      "outputs": [
        {
          "output_type": "stream",
          "name": "stdout",
          "text": [
            "Original array:\n",
            "[0 1 2 3 4 5 6 7 8 9]\n",
            "\n",
            "Reshaped into 2x5 array:\n",
            "[[0 1 2 3 4]\n",
            " [5 6 7 8 9]]\n",
            "\n",
            "Reshaped into 5x2 array:\n",
            "[[0 1]\n",
            " [2 3]\n",
            " [4 5]\n",
            " [6 7]\n",
            " [8 9]]\n"
          ]
        }
      ]
    },
    {
      "cell_type": "markdown",
      "source": [
        "Question3: Create a 4x4 NumPy array with random float values. Add a border of zeros around it, resulting in a 6x6 array."
      ],
      "metadata": {
        "id": "042YUTVH-fjt"
      }
    },
    {
      "cell_type": "code",
      "source": [
        "import numpy as np\n",
        "\n",
        "# Create a 4x4 array with random float values\n",
        "array = np.random.rand(4, 4)\n",
        "print(\"Original 4x4 array:\")\n",
        "print(array)\n",
        "\n",
        "# Add a border of zeros to create a 6x6 array\n",
        "array_with_border = np.pad(array, pad_width=1, mode='constant', constant_values=0)\n",
        "print(\"\\n6x6 array with a border of zeros:\")\n",
        "print(array_with_border)"
      ],
      "metadata": {
        "colab": {
          "base_uri": "https://localhost:8080/"
        },
        "id": "HLnKxPhK-nxS",
        "outputId": "d032e044-f70b-4c1c-e8a6-eb16f4cb8b1e"
      },
      "execution_count": null,
      "outputs": [
        {
          "output_type": "stream",
          "name": "stdout",
          "text": [
            "Original 4x4 array:\n",
            "[[0.95197423 0.06374307 0.91822243 0.7888133 ]\n",
            " [0.9345426  0.97681431 0.84264869 0.44664989]\n",
            " [0.92745539 0.06328531 0.14753369 0.64354823]\n",
            " [0.35574063 0.9926152  0.81627837 0.10861902]]\n",
            "\n",
            "6x6 array with a border of zeros:\n",
            "[[0.         0.         0.         0.         0.         0.        ]\n",
            " [0.         0.95197423 0.06374307 0.91822243 0.7888133  0.        ]\n",
            " [0.         0.9345426  0.97681431 0.84264869 0.44664989 0.        ]\n",
            " [0.         0.92745539 0.06328531 0.14753369 0.64354823 0.        ]\n",
            " [0.         0.35574063 0.9926152  0.81627837 0.10861902 0.        ]\n",
            " [0.         0.         0.         0.         0.         0.        ]]\n"
          ]
        }
      ]
    },
    {
      "cell_type": "markdown",
      "source": [
        "Question4:Using NumPy, create an array of integers from 10 to 60 with a step of 5."
      ],
      "metadata": {
        "id": "zaFQJwd3_F4L"
      }
    },
    {
      "cell_type": "code",
      "source": [
        "import numpy as np\n",
        "\n",
        "array = np.arange(10, 65, 5)\n",
        "print(array)"
      ],
      "metadata": {
        "id": "lywQH96f_MaJ",
        "colab": {
          "base_uri": "https://localhost:8080/"
        },
        "outputId": "00cffada-3086-495c-ca69-046da442d8f7"
      },
      "execution_count": 5,
      "outputs": [
        {
          "output_type": "stream",
          "name": "stdout",
          "text": [
            "[10 15 20 25 30 35 40 45 50 55 60]\n"
          ]
        }
      ]
    },
    {
      "cell_type": "markdown",
      "source": [
        "Question5: Create a NumPy array of strings ['python', 'numpy', 'pandas']. Apply different case transformations (uppercase, lowercase, title case, etc.) to each element."
      ],
      "metadata": {
        "id": "gQs8XW0g_ngp"
      }
    },
    {
      "cell_type": "code",
      "source": [
        "import numpy as np\n",
        "\n",
        "# Create a NumPy array of strings\n",
        "arr = np.array(['python', 'numpy', 'pandas'])\n",
        "\n",
        "# Apply different case transformations\n",
        "uppercase = np.char.upper(arr)      # Convert to uppercase\n",
        "lowercase = np.char.lower(arr)      # Convert to lowercase\n",
        "titlecase = np.char.title(arr)      # Convert to title case\n",
        "capitalize = np.char.capitalize(arr) # Convert to capitalized case\n",
        "\n",
        "# Display the results\n",
        "print(\"Original array:\", arr)\n",
        "print(\"Uppercase:\", uppercase)\n",
        "print(\"Lowercase:\", lowercase)\n",
        "print(\"Title Case:\", titlecase)\n",
        "print(\"Capitalized:\", capitalize)"
      ],
      "metadata": {
        "colab": {
          "base_uri": "https://localhost:8080/"
        },
        "id": "KEE6vk6b_2rh",
        "outputId": "50e5cc69-92ad-4b9e-e73d-cb9679f71a96"
      },
      "execution_count": 6,
      "outputs": [
        {
          "output_type": "stream",
          "name": "stdout",
          "text": [
            "Original array: ['python' 'numpy' 'pandas']\n",
            "Uppercase: ['PYTHON' 'NUMPY' 'PANDAS']\n",
            "Lowercase: ['python' 'numpy' 'pandas']\n",
            "Title Case: ['Python' 'Numpy' 'Pandas']\n",
            "Capitalized: ['Python' 'Numpy' 'Pandas']\n"
          ]
        }
      ]
    },
    {
      "cell_type": "markdown",
      "source": [
        "Question6: Generate a NumPy array of words. Insert a space between each character of every word in the array."
      ],
      "metadata": {
        "id": "SMMfz6Y4_85b"
      }
    },
    {
      "cell_type": "code",
      "source": [
        "import numpy as np\n",
        "\n",
        "# Create a NumPy array of words\n",
        "words = np.array(['hello', 'world', 'numpy', 'python'])\n",
        "\n",
        "# Insert a space between each character of every word\n",
        "spaced_words = np.array([' '.join(word) for word in words])\n",
        "\n",
        "# Display the results\n",
        "print(\"Original array:\", words)\n",
        "print(\"Array with spaces:\", spaced_words)"
      ],
      "metadata": {
        "colab": {
          "base_uri": "https://localhost:8080/"
        },
        "id": "FlgLhCRkAGSv",
        "outputId": "2559f6b8-d9b6-4d4e-d850-ab22c6234b9c"
      },
      "execution_count": 7,
      "outputs": [
        {
          "output_type": "stream",
          "name": "stdout",
          "text": [
            "Original array: ['hello' 'world' 'numpy' 'python']\n",
            "Array with spaces: ['h e l l o' 'w o r l d' 'n u m p y' 'p y t h o n']\n"
          ]
        }
      ]
    },
    {
      "cell_type": "markdown",
      "source": [
        "Question7: Create two 2D NumPy arrays and perform element-wise addition, subtraction, multiplication, and division."
      ],
      "metadata": {
        "id": "w_emIjOeAIIC"
      }
    },
    {
      "cell_type": "code",
      "source": [
        "import numpy as np\n",
        "\n",
        "# Create two 2D NumPy arrays\n",
        "array1 = np.array([[1, 2, 3],\n",
        "                   [4, 5, 6]])\n",
        "array2 = np.array([[7, 8, 9],\n",
        "                   [10, 11, 12]])\n",
        "\n",
        "# Perform element-wise operations\n",
        "addition = array1 + array2              # Element-wise addition\n",
        "subtraction = array1 - array2           # Element-wise subtraction\n",
        "multiplication = array1 * array2        # Element-wise multiplication\n",
        "division = array1 / array2              # Element-wise division\n",
        "\n",
        "# Display the results\n",
        "print(\"Array 1:\\n\", array1)\n",
        "print(\"Array 2:\\n\", array2)\n",
        "print(\"Addition:\\n\", addition)\n",
        "print(\"Subtraction:\\n\", subtraction)\n",
        "print(\"Multiplication:\\n\", multiplication)\n",
        "print(\"Division:\\n\", division)"
      ],
      "metadata": {
        "colab": {
          "base_uri": "https://localhost:8080/"
        },
        "id": "YESnfr-pAUPT",
        "outputId": "14c02727-01ad-4422-ee7e-1f5ca74339dc"
      },
      "execution_count": 8,
      "outputs": [
        {
          "output_type": "stream",
          "name": "stdout",
          "text": [
            "Array 1:\n",
            " [[1 2 3]\n",
            " [4 5 6]]\n",
            "Array 2:\n",
            " [[ 7  8  9]\n",
            " [10 11 12]]\n",
            "Addition:\n",
            " [[ 8 10 12]\n",
            " [14 16 18]]\n",
            "Subtraction:\n",
            " [[-6 -6 -6]\n",
            " [-6 -6 -6]]\n",
            "Multiplication:\n",
            " [[ 7 16 27]\n",
            " [40 55 72]]\n",
            "Division:\n",
            " [[0.14285714 0.25       0.33333333]\n",
            " [0.4        0.45454545 0.5       ]]\n"
          ]
        }
      ]
    },
    {
      "cell_type": "markdown",
      "source": [
        "Question8: Use NumPy to create a 5x5 identity matrix, then extract its diagonal elements."
      ],
      "metadata": {
        "id": "IqtqpEqeAW-J"
      }
    },
    {
      "cell_type": "code",
      "source": [
        "import numpy as np\n",
        "\n",
        "# Create a 5x5 identity matrix\n",
        "identity_matrix = np.eye(5)\n",
        "\n",
        "# Extract the diagonal elements\n",
        "diagonal_elements = np.diagonal(identity_matrix)\n",
        "\n",
        "# Display the results\n",
        "print(\"Identity Matrix:\\n\", identity_matrix)\n",
        "print(\"Diagonal Elements:\", diagonal_elements)"
      ],
      "metadata": {
        "colab": {
          "base_uri": "https://localhost:8080/"
        },
        "id": "Q7s3o2TyAi_5",
        "outputId": "1f15b025-6418-45c5-d61a-f6dc567ab74a"
      },
      "execution_count": 9,
      "outputs": [
        {
          "output_type": "stream",
          "name": "stdout",
          "text": [
            "Identity Matrix:\n",
            " [[1. 0. 0. 0. 0.]\n",
            " [0. 1. 0. 0. 0.]\n",
            " [0. 0. 1. 0. 0.]\n",
            " [0. 0. 0. 1. 0.]\n",
            " [0. 0. 0. 0. 1.]]\n",
            "Diagonal Elements: [1. 1. 1. 1. 1.]\n"
          ]
        }
      ]
    },
    {
      "cell_type": "markdown",
      "source": [
        "Question9: Generate a NumPy array of 100 random integers between 0 and 1000. Find and display all prime numbers in this array."
      ],
      "metadata": {
        "id": "QL2LLC0YAlTo"
      }
    },
    {
      "cell_type": "code",
      "source": [
        "import numpy as np\n",
        "\n",
        "# Generate a NumPy array of 100 random integers between 0 and 1000\n",
        "random_integers = np.random.randint(0, 1001, size=100)\n",
        "\n",
        "# Function to check if a number is prime\n",
        "def is_prime(n):\n",
        "    if n <= 1:\n",
        "        return False\n",
        "    for i in range(2, int(n**0.5) + 1):\n",
        "        if n % i == 0:\n",
        "            return False\n",
        "    return True\n",
        "\n",
        "# Find all prime numbers in the array\n",
        "prime_numbers = [num for num in random_integers if is_prime(num)]\n",
        "\n",
        "# Display the results\n",
        "print(\"Random Integers:\\n\", random_integers)\n",
        "print(\"Prime Numbers:\", prime_numbers)"
      ],
      "metadata": {
        "colab": {
          "base_uri": "https://localhost:8080/"
        },
        "id": "x-mm7MUtAsiJ",
        "outputId": "0340eb0c-e514-430b-dba9-b7713d611540"
      },
      "execution_count": 10,
      "outputs": [
        {
          "output_type": "stream",
          "name": "stdout",
          "text": [
            "Random Integers:\n",
            " [ 946 1000  324  149  572   32  764   27  748  561  898  227  859  218\n",
            "  347  258   89  663  715  200  840  764  987  964  631  594  209  929\n",
            "  472  874  956  315  179  140    4  754  842  315  147  951   57  539\n",
            "  851  126  143  520  555  301    2  127  893  451  149  932  390  638\n",
            "  900  202  245  893  222  638  846  234  125  877  498  617  471  471\n",
            "   93  455  694  507  225  397  344  137   61  935  229  913  349  834\n",
            "  838  803  636  632  919  442  331  144  862  382  127  153  593  525\n",
            "  965  370]\n",
            "Prime Numbers: [149, 227, 859, 347, 89, 631, 929, 179, 2, 127, 149, 877, 617, 397, 137, 61, 229, 349, 919, 331, 127, 593]\n"
          ]
        }
      ]
    },
    {
      "cell_type": "markdown",
      "source": [
        "Question10: Create a NumPy array representing daily temperatures for a month. Calculate and display the weekly averages."
      ],
      "metadata": {
        "id": "moRWKWqcAw9W"
      }
    },
    {
      "cell_type": "code",
      "source": [
        "import numpy as np\n",
        "\n",
        "# Step 1: Create an array of daily temperatures for a month (30 days)\n",
        "# For example, temperatures range from 15 to 30 degrees Celsius\n",
        "daily_temperatures = np.random.randint(15, 31, size=30)\n",
        "\n",
        "# Step 2: Reshape the array into weeks (4 weeks of 7 days)\n",
        "# We will ignore the last 2 days for averaging\n",
        "weekly_temperatures = daily_temperatures[:28].reshape(4, 7)\n",
        "\n",
        "# Step 3: Calculate the weekly averages\n",
        "weekly_averages = weekly_temperatures.mean(axis=1)\n",
        "\n",
        "# Display results\n",
        "print(\"Daily Temperatures for the Month:\")\n",
        "print(daily_temperatures)\n",
        "print(\"\\nWeekly Temperatures:\")\n",
        "print(weekly_temperatures)\n",
        "print(\"\\nWeekly Averages:\")\n",
        "print(weekly_averages)"
      ],
      "metadata": {
        "colab": {
          "base_uri": "https://localhost:8080/"
        },
        "id": "OVy-qpFOBTZI",
        "outputId": "11c8541a-6440-4efd-8495-7bc03e06ebe8"
      },
      "execution_count": 13,
      "outputs": [
        {
          "output_type": "stream",
          "name": "stdout",
          "text": [
            "Daily Temperatures for the Month:\n",
            "[22 18 15 17 19 25 24 19 21 30 21 22 15 25 29 24 26 26 26 18 15 15 18 24\n",
            " 26 23 27 20 15 29]\n",
            "\n",
            "Weekly Temperatures:\n",
            "[[22 18 15 17 19 25 24]\n",
            " [19 21 30 21 22 15 25]\n",
            " [29 24 26 26 26 18 15]\n",
            " [15 18 24 26 23 27 20]]\n",
            "\n",
            "Weekly Averages:\n",
            "[20.         21.85714286 23.42857143 21.85714286]\n"
          ]
        }
      ]
    }
  ]
}