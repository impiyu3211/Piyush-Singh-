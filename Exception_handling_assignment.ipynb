{
  "nbformat": 4,
  "nbformat_minor": 0,
  "metadata": {
    "colab": {
      "provenance": [],
      "toc_visible": true,
      "authorship_tag": "ABX9TyO7wjoKGXJ04FHad9KGn0G4",
      "include_colab_link": true
    },
    "kernelspec": {
      "name": "python3",
      "display_name": "Python 3"
    },
    "language_info": {
      "name": "python"
    }
  },
  "cells": [
    {
      "cell_type": "markdown",
      "metadata": {
        "id": "view-in-github",
        "colab_type": "text"
      },
      "source": [
        "<a href=\"https://colab.research.google.com/github/impiyu3211/Piyush-Singh-/blob/main/Exception_handling_assignment.ipynb\" target=\"_parent\"><img src=\"https://colab.research.google.com/assets/colab-badge.svg\" alt=\"Open In Colab\"/></a>"
      ]
    },
    {
      "cell_type": "markdown",
      "source": [
        "Question1: Discuss the scenarios where multithreading is preferable to multiprocessing and scenarios where multiprocessing is a better choice."
      ],
      "metadata": {
        "id": "WLNzh-sHmNt6"
      }
    },
    {
      "cell_type": "code",
      "source": [
        "Scenarios for Multithreading vs. Multiprocessing\n",
        "\n",
        "Multithreading is preferable when:\n",
        "\n",
        "Tasks are I/O-bound, such as reading/writing files, network calls, or database operations.\n",
        "\n",
        "The workload involves waiting for external resources, allowing threads to operate efficiently without overloading the CPU.\n",
        "\n",
        "There is a need for shared memory access since threads can share memory space within a single process.\n",
        "\n",
        "\n",
        "Multiprocessing is preferable when:\n",
        "\n",
        "Tasks are CPU-bound and involve heavy computations, like mathematical calculations or data processing.\n",
        "\n",
        "There is a need to bypass Python’s Global Interpreter Lock (GIL) for better parallelism, as each process has its interpreter.\n",
        "\n",
        "Memory isolation is required since each process has its memory space, reducing the risk of data corruption."
      ],
      "metadata": {
        "id": "nbgKptenmogn"
      },
      "execution_count": null,
      "outputs": []
    },
    {
      "cell_type": "markdown",
      "source": [
        "Quest2:Describe what a process pool is and how it helps in managing multiple processes efficiently."
      ],
      "metadata": {
        "id": "OhRCT01fmq7q"
      }
    },
    {
      "cell_type": "code",
      "source": [
        "Answer: A process pool is a collection of worker processes that can execute tasks in parallel. In Python, the multiprocessing.Pool class provides a way to manage a pool of worker processes, enabling efficient management and reuse of processes. When tasks are assigned, the pool distributes them to available workers, thereby minimizing the overhead of creating and destroying processes repeatedly."
      ],
      "metadata": {
        "id": "AGSmj1Q4m5JG"
      },
      "execution_count": null,
      "outputs": []
    },
    {
      "cell_type": "markdown",
      "source": [
        "Question3: Explain what multiprocessing is and why it is used in Python programs.\n"
      ],
      "metadata": {
        "id": "glG5wdt7oYFn"
      }
    },
    {
      "cell_type": "code",
      "source": [
        "Answer: Multiprocessing in Python refers to the use of multiple processes to perform tasks concurrently. It is particularly useful in Python due to the GIL, which limits CPU-bound concurrency in multithreading. Multiprocessing helps to:\n",
        "\n",
        "Perform CPU-bound tasks by utilizing multiple CPU cores effectively.\n",
        "\n",
        "Avoid limitations of the GIL since each process has its interpreter instance.\n",
        "\n",
        "Enable parallel execution of tasks in memory-isolated environments.\n"
      ],
      "metadata": {
        "id": "InN8gVuUocdt"
      },
      "execution_count": null,
      "outputs": []
    },
    {
      "cell_type": "markdown",
      "source": [
        "4. Write a Python program using multithreading where one thread adds numbers to a list, and another thread removes numbers from the list. Implement a mechanism to avoid race conditions using threading."
      ],
      "metadata": {
        "id": "FfVldcIKoixV"
      }
    },
    {
      "cell_type": "code",
      "source": [
        "import threading\n",
        "import time\n",
        "\n",
        "# Shared list between threads\n",
        "numbers = []\n",
        "\n",
        "# Lock to avoid race conditions\n",
        "lock = threading.Lock()\n",
        "\n",
        "# Function to add numbers to the list\n",
        "def add_numbers():\n",
        "    for i in range(10):\n",
        "            time.sleep(0.1)  # Simulating some work with a delay\n",
        "                    lock.acquire() # Indentation corrected here\n",
        "                            try:\n",
        "                                        numbers.append(i)\n",
        "                                                    print(f\"Added {i} to the list.\")\n",
        "                                                            finally:\n",
        "                                                                        lock.release()\n",
        "\n",
        "                                                                        # Function to remove numbers from the list\n",
        "                                                                        def remove_numbers():\n",
        "                                                                            for _ in range(10):\n",
        "                                                                                    time.sleep(0.2)  # Simulating some work with a delay\n",
        "                                                                                            lock.acquire() #Indentation corrected here\n",
        "                                                                                                    try:\n",
        "                                                                                                                if numbers:\n",
        "                                                                                                                                removed = numbers.pop(0)\n",
        "                                                                                                                                                print(f\"Removed {removed} from the list.\")\n",
        "                                                                                                                                                        finally:\n",
        "                                                                                                                                                                    lock.release()\n",
        "\n",
        "                                                                                                                                                                    # Creating threads\n",
        "                                                                                                                                                                    thread1 = threading.Thread(target=add_numbers)\n",
        "                                                                                                                                                                    thread2 = threading.Thread(target=remove_numbers)\n",
        "\n",
        "                                                                                                                                                                    # Starting threads\n",
        "                                                                                                                                                                    thread1.start()\n",
        "                                                                                                                                                                    thread2.start()\n",
        "\n",
        "                                                                                                                                                                    # Waiting for both threads to complete\n",
        "                                                                                                                                                                    thread1.join()\n",
        "                                                                                                                                                                    thread2.join()\n",
        "\n",
        "                                                                                                                                                                    print(\"Final list:\", numbers)"
      ],
      "metadata": {
        "id": "ZmNraZndqKbZ"
      },
      "execution_count": null,
      "outputs": []
    },
    {
      "cell_type": "markdown",
      "source": [
        "Question5: Describe the methods and tools available in Python for safely sharing data between threads and processes.\n"
      ],
      "metadata": {
        "id": "1vVQOw-SqZrb"
      }
    },
    {
      "cell_type": "code",
      "source": [
        "Answer: Threads:\n",
        "\n",
        "threading.Lock: Provides exclusive access to shared data, preventing race conditions.\n",
        "\n",
        "threading.RLock: A reentrant lock, useful for recursive locks within the same thread.\n",
        "\n",
        "threading.Condition: Allows threads to wait for specific conditions, useful for producer-consumer problems.\n",
        "\n",
        "\n",
        "Processes:\n",
        "\n",
        "multiprocessing.Queue: A FIFO queue for inter-process communication.\n",
        "\n",
        "multiprocessing.Pipe: Allows bidirectional communication between two processes.\n",
        "\n",
        "multiprocessing.Value and Array: Shared memory variables that can be safely accessed by multiple processes.\n",
        "\n",
        "Manager objects: Allows shared state (lists, dictionaries) across processes using the multiprocessing.Manager()."
      ],
      "metadata": {
        "id": "4OmuVMUYqtNg"
      },
      "execution_count": null,
      "outputs": []
    },
    {
      "cell_type": "markdown",
      "source": [
        "Question6. Discuss why it's crucial to handle exceptions in concurrent programs and the techniques available for doing so."
      ],
      "metadata": {
        "id": "Dkk_N2BWq-ym"
      }
    },
    {
      "cell_type": "code",
      "source": [
        "Handling exceptions in concurrent programs is crucial to:\n",
        "\n",
        "Prevent program crashes due to uncaught errors in individual threads or processes.\n",
        "\n",
        "Ensure proper resource management, like releasing locks and freeing memory.\n",
        "\n",
        "Capture and report errors to aid in debugging.\n",
        "\n",
        "\n",
        "Techniques for handling exceptions:\n",
        "\n",
        "try-except blocks: Surround concurrent code to handle exceptions.\n",
        "\n",
        "concurrent.futures: Captures exceptions raised in threads or processes, allowing them to be re-raised in the main thread.\n",
        "\n",
        "Error handling in pools: ThreadPoolExecutor and ProcessPoolExecutor have built-in mechanisms to capture exceptions."
      ],
      "metadata": {
        "id": "yFxrutQfreom"
      },
      "execution_count": null,
      "outputs": []
    },
    {
      "cell_type": "markdown",
      "source": [
        "Question7:Create a program that uses a thread pool to calculate the factorial of numbers from 1 to 10 concurrently. Use concurrent.futures.ThreadPoolExecutor to manage the threads.\n"
      ],
      "metadata": {
        "id": "8BQxa7kdriLA"
      }
    },
    {
      "cell_type": "code",
      "source": [
        "from concurrent.futures import ThreadPoolExecutor\n",
        "import math\n",
        "\n",
        "# Function to calculate factorial\n",
        "def calculate_factorial(n):\n",
        "    return math.factorial(n)\n",
        "\n",
        "    # Use ThreadPoolExecutor to calculate factorials concurrently\n",
        "    with ThreadPoolExecutor() as executor:\n",
        "        results = list(executor.map(calculate_factorial, range(1, 11)))\n",
        "\n",
        "        print(\"Factorials from 1 to 10:\", results)"
      ],
      "metadata": {
        "id": "1i-P4cZFrsRA"
      },
      "execution_count": 5,
      "outputs": []
    },
    {
      "cell_type": "markdown",
      "source": [
        "8. Create a Python program that uses multiprocessing.Pool to compute the square of numbers from 1 to 10 in parallel. Measure the time taken to perform this computation putation using u a pool I of different sizes (e.g., 2, 4, 8 processes)."
      ],
      "metadata": {
        "id": "jnW-vYNfr01e"
      }
    },
    {
      "cell_type": "code",
      "source": [
        "from multiprocessing import Pool\n",
        "import time\n",
        "\n",
        "# Function to compute the square of a number\n",
        "def compute_square(n):\n",
        "    return n * n\n",
        "\n",
        "    # Range of numbers to compute squares for\n",
        "    numbers = range(1, 11)\n",
        "\n",
        "    # Test with different pool sizes\n",
        "    for pool_size in [2, 4, 8]:\n",
        "        start_time = time.time()\n",
        "\n",
        "                # Initialize the pool with the given size\n",
        "                    with Pool(pool_size) as pool:\n",
        "                            results = pool.map(compute_square, numbers)\n",
        "\n",
        "                                        end_time = time.time()\n",
        "\n",
        "                                                # Display the results and time taken\n",
        "                                                    print(f\"Pool Size {pool_size}: Results = {results}\")\n",
        "                                                        print(f\"Time Taken with Pool Size {pool_size}: {end_time - start_time:.4f} seconds\\n\")"
      ],
      "metadata": {
        "id": "ERq5KMb2s8Uh"
      },
      "execution_count": null,
      "outputs": []
    }
  ]
}