{
  "nbformat": 4,
  "nbformat_minor": 0,
  "metadata": {
    "colab": {
      "provenance": [],
      "authorship_tag": "ABX9TyO/8xKFFUjbMlJCP776rdtC",
      "include_colab_link": true
    },
    "kernelspec": {
      "name": "python3",
      "display_name": "Python 3"
    },
    "language_info": {
      "name": "python"
    }
  },
  "cells": [
    {
      "cell_type": "markdown",
      "metadata": {
        "id": "view-in-github",
        "colab_type": "text"
      },
      "source": [
        "<a href=\"https://colab.research.google.com/github/impiyu3211/Piyush-Singh-/blob/main/PW_Function.ipynb\" target=\"_parent\"><img src=\"https://colab.research.google.com/assets/colab-badge.svg\" alt=\"Open In Colab\"/></a>"
      ]
    },
    {
      "cell_type": "code",
      "execution_count": null,
      "metadata": {
        "id": "sEwoDopEBIGW"
      },
      "outputs": [],
      "source": [
        "Question1.What is the difference between a function and a method in Python?"
      ]
    },
    {
      "cell_type": "markdown",
      "source": [
        "Answer: Difference Between a Function and a Method\n",
        "\n",
        "Function: A function is a block of code that performs a specific task and can be defined outside of classes. It can be called independently.\n",
        "\n",
        "Method: A method is a function that is associated with an object (an instance of a class) and is defined within a class. It can operate on the data contained in the object."
      ],
      "metadata": {
        "id": "7HzJdcr-BPiT"
      }
    },
    {
      "cell_type": "code",
      "source": [
        "Question2. Explain the concept of function arguments and parameters in Python."
      ],
      "metadata": {
        "id": "lhMSYs9SBbLQ"
      },
      "execution_count": null,
      "outputs": []
    },
    {
      "cell_type": "markdown",
      "source": [
        "Answer: Function Arguments and Parameters\n",
        "\n",
        "Parameters: These are the variables defined in a function signature that specify what arguments can be passed to the function.\n",
        "\n",
        "Arguments: These are the actual values passed to a function when it is called. In Python, you can pass arguments in various ways, including positional, keyword, default, and variable-length arguments."
      ],
      "metadata": {
        "id": "l6nlSF6kBg8e"
      }
    },
    {
      "cell_type": "code",
      "source": [
        "Question3:What are the different ways to define and call a function in Python?"
      ],
      "metadata": {
        "id": "DFGPxBXDBslc"
      },
      "execution_count": null,
      "outputs": []
    },
    {
      "cell_type": "markdown",
      "source": [
        "Answer: Ways to Define and Call a Function\n",
        "\n",
        "Defining a Function: Use the def keyword followed by the function name and parentheses. For example:\n",
        "\n",
        "def my_function():\n",
        "    print(\"Hello, World!\")\n",
        "\n",
        "Calling a Function: You simply use the function name followed by parentheses:\n",
        "\n",
        "my_function()  # Outputs: Hello, World!\n",
        "\n",
        "Using Lambda Functions: You can also define a function using the lambda keyword for small, unnamed functions:\n",
        "\n",
        "square = lambda x: x * x\n",
        "print(square(5))  # Outputs: 25"
      ],
      "metadata": {
        "id": "gEynxHBhBy6p"
      }
    },
    {
      "cell_type": "code",
      "source": [
        "Question4:What is the purpose of the 'return' statement in a Python function?"
      ],
      "metadata": {
        "id": "nw1yh_qfCCSx"
      },
      "execution_count": null,
      "outputs": []
    },
    {
      "cell_type": "markdown",
      "source": [
        "Answer:Purpose of the 'return' Statement\n",
        "\n",
        "The return statement is used to exit a function and optionally pass a value back to the caller. If a function does not have a return statement, it returns None by default.\n",
        "\n",
        "Example:\n",
        "\n",
        "def add(a, b):\n",
        "    return a + b\n",
        "\n",
        "result = add(5, 3)  # result is 8"
      ],
      "metadata": {
        "id": "TvKP6O5uCI_j"
      }
    },
    {
      "cell_type": "code",
      "source": [
        "Question5:What are iterators in Python and how do they differ from iterables?"
      ],
      "metadata": {
        "id": "WqYGs-daCUnz"
      },
      "execution_count": null,
      "outputs": []
    },
    {
      "cell_type": "markdown",
      "source": [
        "Answer: Iterators vs. Iterables\n",
        "\n",
        "Iterable: An object that can be iterated over, such as lists, tuples, and dictionaries. It implements the __iter__() method.\n",
        "\n",
        "Iterator: An object that represents a stream of data and implements the __next__() method to return the next value in the sequence. Iterators are created from iterables."
      ],
      "metadata": {
        "id": "d-x15KIJCcEe"
      }
    },
    {
      "cell_type": "code",
      "source": [
        "Question6: Explain the concept of generators in Python and how they are defined."
      ],
      "metadata": {
        "id": "WsMppVq6Cjtv"
      },
      "execution_count": null,
      "outputs": []
    },
    {
      "cell_type": "markdown",
      "source": [
        "Answer: Generators in Python\n",
        "\n",
        "Generators are a type of iterable that allow you to iterate over a sequence of values without storing the entire sequence in memory. They are defined using functions with the yield statement instead of return.\n",
        "\n",
        "Example:\n",
        "\n",
        "def count_up_to(n):\n",
        "    count = 1\n",
        "    while count <= n:\n",
        "        yield count\n",
        "        count += 1"
      ],
      "metadata": {
        "id": "Qn0t4aFsCsz-"
      }
    },
    {
      "cell_type": "code",
      "source": [
        "Question7: What are the advantages of using generators over regular functions?"
      ],
      "metadata": {
        "id": "CuJdq6ofCyXR"
      },
      "execution_count": null,
      "outputs": []
    },
    {
      "cell_type": "markdown",
      "source": [
        "Answer: Advantages of Using Generators\n",
        "\n",
        "Memory Efficiency: Generators yield items one at a time, which can save memory when working with large datasets.\n",
        "\n",
        "Lazy Evaluation: They only compute values as needed, which can lead to performance improvements.\n",
        "\n",
        "Simpler Code: Generators can lead to cleaner code since they avoid the need for an explicit loop and list management."
      ],
      "metadata": {
        "id": "Gq-P9WdPC4bV"
      }
    },
    {
      "cell_type": "code",
      "source": [
        "Question8: What is a lambda function in Python and when is it typically used?"
      ],
      "metadata": {
        "id": "HV8WnGYIC-Vj"
      },
      "execution_count": null,
      "outputs": []
    },
    {
      "cell_type": "markdown",
      "source": [
        "Answer: Lambda Functions in Python\n",
        "\n",
        "A lambda function is a small anonymous function defined with the lambda keyword. It can take any number of arguments but can only have one expression. They are typically used for short-term tasks where defining a full function would be unnecessarily verbose.\n",
        "\n",
        "Example:\n",
        "\n",
        "add = lambda x, y: x + y\n",
        "print(add(2, 3))  # Outputs: 5"
      ],
      "metadata": {
        "id": "FnDpw3cNDEnO"
      }
    },
    {
      "cell_type": "code",
      "source": [
        "Question9: Explain the purpose and usage of the 'map() function in I Python."
      ],
      "metadata": {
        "id": "rSPFt9zRDS8t"
      },
      "execution_count": null,
      "outputs": []
    },
    {
      "cell_type": "markdown",
      "source": [
        "Answer:Purpose and Usage of the 'map()' Function\n",
        "\n",
        "The map() function applies a given function to all items in an iterable (like a list) and returns a map object (which can be converted to a list). It is useful for transforming data.\n",
        "\n",
        "Example:\n",
        "\n",
        "numbers = [1, 2, 3, 4]\n",
        "squared = map(lambda x: x ** 2, numbers)  # Returns a map object\n",
        "print(list(squared))  # Outputs: [1, 4, 9, 16]"
      ],
      "metadata": {
        "id": "IC63lJRxDaee"
      }
    },
    {
      "cell_type": "code",
      "source": [
        "Question10: What is the difference between `map()`, `reduce()`, and `filter() functions in Python?"
      ],
      "metadata": {
        "id": "8sgGOhJuDjyF"
      },
      "execution_count": null,
      "outputs": []
    },
    {
      "cell_type": "markdown",
      "source": [
        "Answer: Difference Between map(), reduce(), and filter()\n",
        "\n",
        "map(): Applies a function to all items in an iterable and returns a new iterable with the results.\n",
        "\n",
        "filter(): Filters elements from an iterable based on a function that returns True or False. It returns a new iterable with only the items for which the function returned True.\n",
        "\n",
        "reduce(): From the functools module, it applies a function cumulatively to the items of an iterable, reducing it to a single value.\n",
        "\n",
        "\n",
        "Example:\n",
        "\n",
        "from functools import reduce\n",
        "\n",
        "# Using filter\n",
        "even_numbers = list(filter(lambda x: x % 2 == 0, [1, 2, 3, 4]))  # Outputs: [2, 4]\n",
        "\n",
        "# Using reduce\n",
        "sum_result = reduce(lambda x, y: x + y, [1, 2, 3, 4])  # Outputs: 10"
      ],
      "metadata": {
        "id": "__WJeWDLDrFi"
      }
    },
    {
      "cell_type": "code",
      "source": [
        "Question11:Using pen & Paper write the internal mechanism for sum operation using reduce function on this given list: [47,11,42,13];"
      ],
      "metadata": {
        "id": "pTeQjMbND2xx"
      },
      "execution_count": null,
      "outputs": []
    },
    {
      "cell_type": "markdown",
      "source": [],
      "metadata": {
        "id": "o_lZmsRCGGHv"
      }
    },
    {
      "cell_type": "markdown",
      "source": [
        "Answer: Internal Mechanism for Sum Operation Using reduce()\n",
        "\n",
        "To calculate the sum of the list [47, 11, 42, 13] using reduce(), the internal mechanism works as follows:\n",
        "\n",
        "1. Start with the first two elements: 47 and 11.\n",
        "\n",
        "Apply the function: 47 + 11 = 58\n",
        "\n",
        "\n",
        "\n",
        "2. Next, take the result and the next element: 58 and 42.\n",
        "\n",
        "Apply the function: 58 + 42 = 100\n",
        "\n",
        "\n",
        "\n",
        "3. Finally, take the result and the last element: 100 and 13.\n",
        "\n",
        "Apply the function: 100 + 13 = 113\n",
        "\n",
        "\n",
        "\n",
        "\n",
        "So, the operation can be summarized as:\n",
        "\n",
        "from functools import reduce\n",
        "\n",
        "result = reduce(lambda x, y: x + y, [47, 11, 42, 13])  # Outputs: 113"
      ],
      "metadata": {
        "id": "IEI2NIk_FT5u"
      }
    },
    {
      "cell_type": "markdown",
      "source": [
        "/content/sample_data/Function_file"
      ],
      "metadata": {
        "id": "se7ZxZ4xJvSz"
      }
    },
    {
      "cell_type": "markdown",
      "source": [],
      "metadata": {
        "id": "ykcKG31nJ119"
      }
    }
  ]
}