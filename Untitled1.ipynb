{
  "nbformat": 4,
  "nbformat_minor": 0,
  "metadata": {
    "colab": {
      "provenance": [],
      "authorship_tag": "ABX9TyMUUc2mGIjXf8qEydVpVRz9",
      "include_colab_link": true
    },
    "kernelspec": {
      "name": "python3",
      "display_name": "Python 3"
    },
    "language_info": {
      "name": "python"
    }
  },
  "cells": [
    {
      "cell_type": "markdown",
      "metadata": {
        "id": "view-in-github",
        "colab_type": "text"
      },
      "source": [
        "<a href=\"https://colab.research.google.com/github/impiyu3211/Piyush-Singh-/blob/main/Untitled1.ipynb\" target=\"_parent\"><img src=\"https://colab.research.google.com/assets/colab-badge.svg\" alt=\"Open In Colab\"/></a>"
      ]
    },
    {
      "cell_type": "markdown",
      "source": [
        "Question1: Write a Python function that takes a list of numbers as input and returns the sum of all even numbers in the list."
      ],
      "metadata": {
        "id": "G5-gOn2M_Ms5"
      }
    },
    {
      "cell_type": "code",
      "source": [
        "def sum_of_even_numbers(numbers):\n",
        "    \"\"\"Returns the sum of all even numbers in the given list.\"\"\"\n",
        "    return sum(num for num in numbers if num % 2 == 0)\n",
        "\n",
        "# Example usage:\n",
        "numbers = [1, 2, 3, 4, 5, 6]\n",
        "result = sum_of_even_numbers(numbers)\n",
        "print(\"Sum of even numbers:\", result)  # Output: Sum of even numbers: 12"
      ],
      "metadata": {
        "id": "8vzgnmfZ_PBc",
        "colab": {
          "base_uri": "https://localhost:8080/"
        },
        "outputId": "82a9239c-c547-46e2-a192-f6c7ab7fb680"
      },
      "execution_count": 27,
      "outputs": [
        {
          "output_type": "stream",
          "name": "stdout",
          "text": [
            "Sum of even numbers: 12\n"
          ]
        }
      ]
    },
    {
      "cell_type": "markdown",
      "source": [
        "Question2: Create a Python function that accepts a string and returns the reverse of that string."
      ],
      "metadata": {
        "id": "_QnbqfFl_kBG"
      }
    },
    {
      "cell_type": "code",
      "source": [
        "def reverse_string(s):\n",
        "    \"\"\"Returns the reverse of the given string.\"\"\"\n",
        "    return s[::-1]\n",
        "\n",
        "# Example usage:\n",
        "input_string = \"Hello, World!\"\n",
        "result = reverse_string(input_string)\n",
        "print(\"Reversed string:\", result)  # Output: Reversed string: !dlroW ,olleH"
      ],
      "metadata": {
        "id": "JmRQY4bZ_5qE",
        "colab": {
          "base_uri": "https://localhost:8080/"
        },
        "outputId": "27c8f7db-a63f-441f-ab97-7e2a46675e28"
      },
      "execution_count": 28,
      "outputs": [
        {
          "output_type": "stream",
          "name": "stdout",
          "text": [
            "Reversed string: !dlroW ,olleH\n"
          ]
        }
      ]
    },
    {
      "cell_type": "markdown",
      "source": [
        "Question3: Implement a Python function that takes a list of integers and returns a new list containing the squares of each number."
      ],
      "metadata": {
        "id": "jlG9i4cA_9zb"
      }
    },
    {
      "cell_type": "code",
      "source": [
        "def square_numbers(numbers):\n",
        "    \"\"\"Returns a new list containing the squares of each number in the input list.\"\"\"\n",
        "    return [num ** 2 for num in numbers]\n",
        "\n",
        "# Example usage:\n",
        "input_list = [1, 2, 3, 4, 5]\n",
        "result = square_numbers(input_list)\n",
        "print(\"Squares:\", result)  # Output: Squares: [1, 4, 9, 16, 25]"
      ],
      "metadata": {
        "id": "C_n2G4sLAKw8",
        "colab": {
          "base_uri": "https://localhost:8080/"
        },
        "outputId": "99172d65-79cb-4d5a-b38a-10d0c796bd0d"
      },
      "execution_count": 29,
      "outputs": [
        {
          "output_type": "stream",
          "name": "stdout",
          "text": [
            "Squares: [1, 4, 9, 16, 25]\n"
          ]
        }
      ]
    },
    {
      "cell_type": "markdown",
      "source": [
        "Question4:Write a Python function that checks if a given number is prime or not from 1 to 200."
      ],
      "metadata": {
        "id": "cRuf6aK5AbcZ"
      }
    },
    {
      "cell_type": "code",
      "source": [
        "def is_prime(n):\n",
        "    \"\"\"Checks if a given number n is prime.\"\"\"\n",
        "    if n <= 1:\n",
        "        return False\n",
        "    for i in range(2, int(n**0.5) + 1):\n",
        "        if n % i == 0:\n",
        "            return False\n",
        "    return True\n",
        "\n",
        "# Example usage:\n",
        "for number in range(1, 201):\n",
        "    if is_prime(number):\n",
        "        print(f\"{number} is prime.\")"
      ],
      "metadata": {
        "id": "wHSQqnagAzVK",
        "colab": {
          "base_uri": "https://localhost:8080/"
        },
        "outputId": "bc7565f0-6f75-463f-db9f-faacfd7ac036"
      },
      "execution_count": 30,
      "outputs": [
        {
          "output_type": "stream",
          "name": "stdout",
          "text": [
            "2 is prime.\n",
            "3 is prime.\n",
            "5 is prime.\n",
            "7 is prime.\n",
            "11 is prime.\n",
            "13 is prime.\n",
            "17 is prime.\n",
            "19 is prime.\n",
            "23 is prime.\n",
            "29 is prime.\n",
            "31 is prime.\n",
            "37 is prime.\n",
            "41 is prime.\n",
            "43 is prime.\n",
            "47 is prime.\n",
            "53 is prime.\n",
            "59 is prime.\n",
            "61 is prime.\n",
            "67 is prime.\n",
            "71 is prime.\n",
            "73 is prime.\n",
            "79 is prime.\n",
            "83 is prime.\n",
            "89 is prime.\n",
            "97 is prime.\n",
            "101 is prime.\n",
            "103 is prime.\n",
            "107 is prime.\n",
            "109 is prime.\n",
            "113 is prime.\n",
            "127 is prime.\n",
            "131 is prime.\n",
            "137 is prime.\n",
            "139 is prime.\n",
            "149 is prime.\n",
            "151 is prime.\n",
            "157 is prime.\n",
            "163 is prime.\n",
            "167 is prime.\n",
            "173 is prime.\n",
            "179 is prime.\n",
            "181 is prime.\n",
            "191 is prime.\n",
            "193 is prime.\n",
            "197 is prime.\n",
            "199 is prime.\n"
          ]
        }
      ]
    },
    {
      "cell_type": "markdown",
      "source": [
        "Question5:Create an iterator class in Python that generates the Fibonacci sequence up to a specified number of terms."
      ],
      "metadata": {
        "id": "Yh7NQLlkA6_K"
      }
    },
    {
      "cell_type": "code",
      "source": [
        "\n",
        "class FibonacciIterator:\n",
        "    \"\"\"An iterator class to generate Fibonacci numbers.\"\"\"\n",
        "\n",
        "    def __init__(self, n):\n",
        "        \"\"\"Initialize the iterator with the number of terms.\"\"\"\n",
        "        self.n = n\n",
        "        self.a, self.b = 0, 1  # Starting values for Fibonacci sequence\n",
        "        self.index = 0\n",
        "\n",
        "    def __iter__(self):\n",
        "        \"\"\"Return the iterator object itself.\"\"\"\n",
        "        return self\n",
        "\n",
        "    def __next__(self):\n",
        "        \"\"\"Return the next Fibonacci number.\"\"\"\n",
        "        if self.index < self.n:\n",
        "            current = self.a\n",
        "            self.a, self.b = self.b, self.a + self.b  # Update to next Fibonacci numbers\n",
        "            self.index += 1\n",
        "            return current\n",
        "        else:\n",
        "            raise StopIteration  # Stop iteration after n terms\n",
        "\n",
        "# Example usage:\n",
        "num_terms = 10\n",
        "fibonacci_sequence = FibonacciIterator(num_terms)\n",
        "\n",
        "for fib_number in fibonacci_sequence:\n",
        "    print(fib_number)"
      ],
      "metadata": {
        "id": "1bEnSQbDBANC",
        "colab": {
          "base_uri": "https://localhost:8080/"
        },
        "outputId": "a5166adc-2e5d-4d37-d86c-f2e009ba1b1a"
      },
      "execution_count": 31,
      "outputs": [
        {
          "output_type": "stream",
          "name": "stdout",
          "text": [
            "0\n",
            "1\n",
            "1\n",
            "2\n",
            "3\n",
            "5\n",
            "8\n",
            "13\n",
            "21\n",
            "34\n"
          ]
        }
      ]
    },
    {
      "cell_type": "markdown",
      "source": [
        "Question6:Write a generator function in Python that yields the powers of 2 up to a given exponent."
      ],
      "metadata": {
        "id": "88RIY0-0BGLC"
      }
    },
    {
      "cell_type": "code",
      "source": [
        "def powers_of_two(exponent):\n",
        "    \"\"\"Generator function that yields powers of 2 up to the given exponent.\"\"\"\n",
        "    for i in range(exponent + 1):\n",
        "        yield 2 ** i\n",
        "\n",
        "# Example usage:\n",
        "exponent = 5\n",
        "for power in powers_of_two(exponent):\n",
        "    print(power)"
      ],
      "metadata": {
        "id": "CKVOlxxRBLr0",
        "colab": {
          "base_uri": "https://localhost:8080/"
        },
        "outputId": "bd8150c7-4908-4f6b-efda-42b06047a8ab"
      },
      "execution_count": 32,
      "outputs": [
        {
          "output_type": "stream",
          "name": "stdout",
          "text": [
            "1\n",
            "2\n",
            "4\n",
            "8\n",
            "16\n",
            "32\n"
          ]
        }
      ]
    },
    {
      "cell_type": "markdown",
      "source": [
        "Question7: Implement a generator function that reads a file line by line and yields each line as a string."
      ],
      "metadata": {
        "id": "COqpCmmTBRRq"
      }
    },
    {
      "cell_type": "code",
      "source": [
        "def read_file_lines(file_path):\n",
        "    \"\"\"Generator function that yields each line from a file.\"\"\"\n",
        "    with open(file_path, 'r') as file:\n",
        "        for line in file:\n",
        "            yield line.strip()  # Strip whitespace including newline characters\n",
        "\n",
        "# Example usage:\n",
        "#file_path = 'example.txt'  # Replace with your file path\n",
        "#for line in read_file_lines(file_path):\n",
        "    print(line)"
      ],
      "metadata": {
        "id": "6G9At_OcFKP-"
      },
      "execution_count": 34,
      "outputs": []
    },
    {
      "cell_type": "markdown",
      "source": [
        "Question8: Use a lambda function in Python to sort a list of tuples based on the second element of each tuple."
      ],
      "metadata": {
        "id": "Sw53yEXfBfOR"
      }
    },
    {
      "cell_type": "code",
      "source": [
        "# List of tuples\n",
        "tuple_list = [(1, 5), (3, 1), (4, 3), (2, 8), (5, 2)]\n",
        "\n",
        "# Sort the list based on the second element of each tuple using a lambda function\n",
        "sorted_list = sorted(tuple_list, key=lambda x: x[1])\n",
        "\n",
        "# Output the sorted list\n",
        "print(sorted_list)"
      ],
      "metadata": {
        "id": "dhkzprciBorM",
        "colab": {
          "base_uri": "https://localhost:8080/"
        },
        "outputId": "9ec2c782-92d8-4df2-e294-6f0fef695b71"
      },
      "execution_count": 15,
      "outputs": [
        {
          "output_type": "stream",
          "name": "stdout",
          "text": [
            "[(3, 1), (5, 2), (4, 3), (1, 5), (2, 8)]\n"
          ]
        }
      ]
    },
    {
      "cell_type": "markdown",
      "source": [
        "Question10: Create a Python program that uses `filter()` to remove all the vowels from a given string."
      ],
      "metadata": {
        "id": "hO6jchK_Bua9"
      }
    },
    {
      "cell_type": "code",
      "source": [
        "# Function to check if a character is not a vowel\n",
        "def is_not_vowel(char):\n",
        "    vowels = 'aeiouAEIOU'\n",
        "    return char not in vowels\n",
        "\n",
        "# Input string\n",
        "input_string = \"This is an example string.\"\n",
        "\n",
        "# Use filter() to remove vowels\n",
        "result = ''.join(filter(is_not_vowel, input_string))\n",
        "\n",
        "# Output the result\n",
        "print(result)"
      ],
      "metadata": {
        "colab": {
          "base_uri": "https://localhost:8080/"
        },
        "id": "kcu0DFnVCdJ3",
        "outputId": "ed56a952-f99a-4408-c15f-bfbca1e1b3ce"
      },
      "execution_count": 14,
      "outputs": [
        {
          "output_type": "stream",
          "name": "stdout",
          "text": [
            "Ths s n xmpl strng.\n"
          ]
        }
      ]
    },
    {
      "cell_type": "markdown",
      "source": [
        "Question11:Imagine an accounting routine used in a book shop. It works on a list with sublists, which look like this:\n",
        "\n",
        "Order Number\n",
        "\n",
        "34587\n",
        "\n",
        "98762\n",
        "\n",
        "77226\n",
        "\n",
        "88112\n",
        "\n",
        "Book Title and Author\n",
        "\n",
        "Learning Python, Mark Lutz\n",
        "\n",
        "Programming Python, Mark Lutz\n",
        "\n",
        "Head First Python, Paul Barry\n",
        "\n",
        "Einführung in Python3, Bernd Klein\n",
        "\n",
        "Quantity\n",
        "\n",
        "4\n",
        "\n",
        "5\n",
        "\n",
        "3\n",
        "\n",
        "3\n",
        "\n",
        "Price per Item\n",
        "\n",
        "40.95\n",
        "\n",
        "56.80\n",
        "\n",
        "32.95\n",
        "\n",
        "24.99\n",
        "\n",
        "Write a Python program, which returns a list with 2-tuples. Each tuple consists of the order number and the product of the price per item and the quantity. The product should be increased by 10,- € if the value of the order is smaller than 100,00 €.\n",
        "\n",
        "Write a Python program using lambda and map"
      ],
      "metadata": {
        "id": "NHcLOjxUCnIf"
      }
    },
    {
      "cell_type": "code",
      "source": [
        "# Input data: list of orders\n",
        "orders = [\n",
        "    [34587, \"Learning Python, Mark Lutz\", 4, 40.95],\n",
        "    [98762, \"Programming Python, Mark Lutz\", 5, 56.80],\n",
        "    [77226, \"Head First Python, Paul Barry\", 3, 32.95],\n",
        "    [88112, \"Einführung in Python3, Bernd Klein\", 3, 24.99]\n",
        "]\n",
        "\n",
        "# Function to calculate the total value of each order\n",
        "# It returns a tuple with order number and total value\n",
        "result = list(map(lambda x: (x[0], x[2] * x[3] if x[2] * x[3] >= 100 else x[2] * x[3] + 10), orders))\n",
        "\n",
        "# Output the result\n",
        "print(result)"
      ],
      "metadata": {
        "colab": {
          "base_uri": "https://localhost:8080/"
        },
        "id": "ktNIjJCkC-r5",
        "outputId": "0f3e5223-8e8f-4891-d481-3bf3dc94f143"
      },
      "execution_count": 11,
      "outputs": [
        {
          "output_type": "stream",
          "name": "stdout",
          "text": [
            "[(34587, 163.8), (98762, 284.0), (77226, 108.85000000000001), (88112, 84.97)]\n"
          ]
        }
      ]
    },
    {
      "cell_type": "markdown",
      "source": [
        "Question9:Write a Python program that uses `map()` to convert a list of temperatures from Celsius to Fahrenheit."
      ],
      "metadata": {
        "id": "kK466C8yDosI"
      }
    },
    {
      "cell_type": "code",
      "source": [
        "# List of temperatures in Celsius\n",
        "celsius_temps = [0, 20, 37, 100, -10]\n",
        "\n",
        "# Convert Celsius to Fahrenheit using map and lambda\n",
        "fahrenheit_temps = list(map(lambda c: (c * 9/5) + 32, celsius_temps))\n",
        "\n",
        "# Output the Fahrenheit temperatures\n",
        "print(fahrenheit_temps)"
      ],
      "metadata": {
        "colab": {
          "base_uri": "https://localhost:8080/"
        },
        "id": "pQatk_oRDqr5",
        "outputId": "d2e93263-08c4-4356-922d-da9ac2a47780"
      },
      "execution_count": 13,
      "outputs": [
        {
          "output_type": "stream",
          "name": "stdout",
          "text": [
            "[32.0, 68.0, 98.6, 212.0, 14.0]\n"
          ]
        }
      ]
    }
  ]
}