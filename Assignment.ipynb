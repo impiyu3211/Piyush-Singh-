{
  "nbformat": 4,
  "nbformat_minor": 0,
  "metadata": {
    "colab": {
      "provenance": [],
      "authorship_tag": "ABX9TyOvo00Esajbnhf0RNOTS+jG",
      "include_colab_link": true
    },
    "kernelspec": {
      "name": "python3",
      "display_name": "Python 3"
    },
    "language_info": {
      "name": "python"
    }
  },
  "cells": [
    {
      "cell_type": "markdown",
      "metadata": {
        "id": "view-in-github",
        "colab_type": "text"
      },
      "source": [
        "<a href=\"https://colab.research.google.com/github/impiyu3211/Piyush-Singh-/blob/main/Assignment.ipynb\" target=\"_parent\"><img src=\"https://colab.research.google.com/assets/colab-badge.svg\" alt=\"Open In Colab\"/></a>"
      ]
    },
    {
      "cell_type": "code",
      "execution_count": null,
      "metadata": {
        "id": "qoiQ252gZ2eV"
      },
      "outputs": [],
      "source": [
        "Question 1:Explain the key features of Python that make it a popular choice for programming."
      ]
    },
    {
      "cell_type": "markdown",
      "source": [],
      "metadata": {
        "id": "ISIkxf8DbUN_"
      }
    },
    {
      "cell_type": "markdown",
      "source": [
        "Answer:Key Features of Python\n",
        "\n",
        "Python is a popular programming language due to the following key features:\n",
        "\n",
        "Simple and Easy to Learn: Python's syntax is designed to be readable and straightforward, making it an easy language for beginners.\n",
        "\n",
        "Interpreted Language: Python is an interpreted language, meaning that code is executed line by line, which makes debugging easier.\n",
        "\n",
        "Dynamically Typed: Python does not require explicit declaration of variable types, allowing for more flexible and rapid development.\n",
        "\n",
        "Extensive Standard Library: Python has a rich standard library that provides many built-in modules and functions to handle a variety of tasks, from file handling to networking.\n",
        "\n",
        "Cross-Platform Compatibility: Python is available on different platforms, such as Windows, macOS, and Linux, ensuring code portability.\n",
        "\n",
        "Support for Multiple Paradigms: Python supports different programming paradigms, such as procedural, object-oriented, and functional programming.\n",
        "\n",
        "Community Support: Python has a large and active community, providing a wealth of libraries, frameworks, and support."
      ],
      "metadata": {
        "id": "DKfyKb6hbRac"
      }
    },
    {
      "cell_type": "code",
      "source": [
        "Question 2:Describe the role of predefined keywords in Python and provide examples of how they are used in a program."
      ],
      "metadata": {
        "id": "mJnbOT16bvsX"
      },
      "execution_count": null,
      "outputs": []
    },
    {
      "cell_type": "markdown",
      "source": [
        "Answer:Predefined Keywords in Python\n",
        "\n",
        "Keywords in Python are reserved words that have specific meanings and uses. They cannot be used as identifiers for variables or functions. Examples of predefined keywords include if, else, while, for, break, class, def, etc.\n",
        "\n",
        "Example:\n",
        "\n",
        "if True:\n",
        "    print(\"This condition is True.\")\n",
        "else:\n",
        "    print(\"This condition is False.\")"
      ],
      "metadata": {
        "id": "WMrWY4H2b2Me"
      }
    },
    {
      "cell_type": "code",
      "source": [
        "Question3:Compare and contrast mutable and immutable objects in Python with examples."
      ],
      "metadata": {
        "id": "Jk323vEtcG2k"
      },
      "execution_count": null,
      "outputs": []
    },
    {
      "cell_type": "markdown",
      "source": [
        "Answer: Mutable vs. Immutable Objects\n",
        "\n",
        "Mutable Objects: Mutable objects can be changed after creation. Examples include lists, dictionaries, and sets.\n",
        "\n",
        "my_list = [1, 2, 3]\n",
        "my_list.append(4)  # my_list is now [1, 2, 3, 4]\n",
        "\n",
        "Immutable Objects: Immutable objects cannot be changed after creation. Examples include integers, strings, and tuples.\n",
        "\n",
        "my_str = \"Hello\"\n",
        "my_str += \" World\"  \n",
        " \"Hello World\"; the original \"Hello\" is unchanged.\n",
        "\n",
        "\n",
        "Mutable objects allow in-place modification, whereas immutable objects do not."
      ],
      "metadata": {
        "id": "DY9B8tvDcSST"
      }
    },
    {
      "cell_type": "code",
      "source": [
        "Question 4: Discuss the different types of operators in Python and provide examples of how they are used."
      ],
      "metadata": {
        "id": "JqAnicIuccga"
      },
      "execution_count": null,
      "outputs": []
    },
    {
      "cell_type": "markdown",
      "source": [
        "Answer:Types of Operators in Python\n",
        "\n",
        "Arithmetic Operators: Perform basic mathematical operations.\n",
        "\n",
        "a, b = 5, 3\n",
        "print(a + b)  # Output: 8\n",
        "print(a * b)  # Output: 15\n",
        "\n",
        "Relational Operators: Compare two values.\n",
        "\n",
        "print(a > b)  # Output: True\n",
        "print(a == b)  # Output: False\n",
        "\n",
        "Logical Operators: Combine conditional statements.\n",
        "\n",
        "print(a > 0 and b < 10)  # Output: True\n",
        "\n",
        "Assignment Operators: Assign values to variables.\n",
        "\n",
        "a += 2  # Equivalent to a = a + 2\n",
        "\n",
        "Bitwise Operators: Perform bit-level operations.\n",
        "\n",
        "print(a & b)  # Bitwise AND\n",
        "\n",
        "Membership Operators: Check if a value is in a sequence.\n",
        "\n",
        "print(3 in [1, 2, 3])  # Output: True\n",
        "\n",
        "Identity Operators: Check if two objects are identical.\n",
        "\n",
        "x = [1, 2, 3]\n",
        "y = x\n",
        "print(x is y)  # Output: True"
      ],
      "metadata": {
        "id": "z7wAWz0IckSI"
      }
    },
    {
      "cell_type": "code",
      "source": [
        "Question 5:Explain the concept of type casting in Python with examples."
      ],
      "metadata": {
        "id": "dseYjmojcusf"
      },
      "execution_count": null,
      "outputs": []
    },
    {
      "cell_type": "markdown",
      "source": [
        "Answer: Type Casting in Python\n",
        "\n",
        "Type casting is used to convert one data type to another.\n",
        "\n",
        "Examples:\n",
        "\n",
        "Implicit Casting:\n",
        "\n",
        "x = 5\n",
        "y = 2.5\n",
        "result = x + y  # x is implicitly converted to float\n",
        "\n",
        "Explicit Casting:\n",
        "\n",
        "x = \"123\"\n",
        "y = int(x)  # Convert string to integer\n",
        "print(y + 1)  # Output: 124"
      ],
      "metadata": {
        "id": "Yn2pwHv1c3DW"
      }
    },
    {
      "cell_type": "code",
      "source": [
        "Question 6:How do conditional statements work in Python? Illustrate with examples."
      ],
      "metadata": {
        "id": "V6IeisNkc-NG"
      },
      "execution_count": null,
      "outputs": []
    },
    {
      "cell_type": "markdown",
      "source": [
        "Answer:Conditional Statements in Python\n",
        "\n",
        "Conditional statements are used to execute code blocks based on certain conditions.\n",
        "\n",
        "Example:\n",
        "\n",
        "x = 10\n",
        "if x > 0:\n",
        "    print(\"x is positive\")\n",
        "elif x < 0:\n",
        "    print(\"x is negative\")\n",
        "else:\n",
        "    print(\"x is zero\")"
      ],
      "metadata": {
        "id": "shR3mzJPdDt4"
      }
    },
    {
      "cell_type": "code",
      "source": [
        "Question 7:Describe the different types of loops in Python and their use cases with examples."
      ],
      "metadata": {
        "id": "yJk0x8FSdRXQ"
      },
      "execution_count": null,
      "outputs": []
    },
    {
      "cell_type": "markdown",
      "source": [
        "Answer: Types of Loops in Python\n",
        "\n",
        "for Loop: Used to iterate over a sequence (like a list, tuple, or range).\n",
        "\n",
        "for i in range(5):\n",
        "    print(i)  # Output: 0, 1, 2, 3, 4\n",
        "\n",
        "while Loop: Repeats as long as a condition is True.\n",
        "\n",
        "count = 0\n",
        "while count < 3:\n",
        "    print(\"Count:\", count)\n",
        "    count += 1  # Output: Count: 0, Count: 1, Count: 2\n",
        "\n",
        "break and continue:\n",
        "\n",
        "break: Exits the loop.\n",
        "\n",
        "for i in range(5):\n",
        "    if i == 3:\n",
        "        break\n",
        "    print(i)  # Output: 0, 1, 2\n",
        "\n",
        "continue: Skips the current iteration.\n",
        "\n",
        "for i in range(5):\n",
        "    if i == 3:\n",
        "        continue\n",
        "    print(i)  # Output: 0, 1, 2, 4\n",
        "\n",
        "\n",
        "Loops are used to perform repetitive tasks. The for loop is often used when iterating over a sequence, while the while loop is suitable when the number of iterations is not known beforehand."
      ],
      "metadata": {
        "id": "3RaaGMgddYvJ"
      }
    },
    {
      "cell_type": "code",
      "source": [],
      "metadata": {
        "id": "r0Sc4tHud6O3"
      },
      "execution_count": null,
      "outputs": []
    }
  ]
}